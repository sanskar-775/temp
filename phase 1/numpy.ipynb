{
 "cells": [
  {
   "cell_type": "markdown",
   "id": "6d5fef9b-0abe-43ee-b80b-9e2aee049534",
   "metadata": {},
   "source": [
    "# 1. Numpy array creation"
   ]
  },
  {
   "cell_type": "code",
   "execution_count": 1,
   "id": "886dcf79-50bc-4e89-b2a4-52689698c652",
   "metadata": {},
   "outputs": [],
   "source": [
    "import numpy as np"
   ]
  },
  {
   "cell_type": "code",
   "execution_count": 3,
   "id": "d572651c-ce06-470d-b884-db9c0bacf527",
   "metadata": {},
   "outputs": [],
   "source": [
    "l1 = [1,2,3,4,5]"
   ]
  },
  {
   "cell_type": "code",
   "execution_count": 4,
   "id": "b7f88b72-373e-44bd-b444-5c7319ec6408",
   "metadata": {},
   "outputs": [],
   "source": [
    "arr1 = np.array(l1)"
   ]
  },
  {
   "cell_type": "code",
   "execution_count": 5,
   "id": "73202709-a932-4bab-8ee4-4b2a7a3a97a9",
   "metadata": {},
   "outputs": [
    {
     "data": {
      "text/plain": [
       "[1, 2, 3, 4, 5]"
      ]
     },
     "execution_count": 5,
     "metadata": {},
     "output_type": "execute_result"
    }
   ],
   "source": [
    "l1"
   ]
  },
  {
   "cell_type": "code",
   "execution_count": 6,
   "id": "49091d79-b448-4bd9-b006-d58ff637f5c1",
   "metadata": {},
   "outputs": [
    {
     "data": {
      "text/plain": [
       "array([1, 2, 3, 4, 5])"
      ]
     },
     "execution_count": 6,
     "metadata": {},
     "output_type": "execute_result"
    }
   ],
   "source": [
    "arr1"
   ]
  },
  {
   "cell_type": "code",
   "execution_count": 7,
   "id": "4d6ce622-f785-494d-93eb-b570e6f39050",
   "metadata": {},
   "outputs": [
    {
     "data": {
      "text/plain": [
       "array([10, 11, 12, 13, 14])"
      ]
     },
     "execution_count": 7,
     "metadata": {},
     "output_type": "execute_result"
    }
   ],
   "source": [
    "arr1+9"
   ]
  },
  {
   "cell_type": "code",
   "execution_count": 8,
   "id": "b49e5deb-cd80-448a-a9e5-44695fe17b3b",
   "metadata": {},
   "outputs": [
    {
     "data": {
      "text/plain": [
       "[1, 2, 3, 4, 5, 1, 2, 3, 4, 5]"
      ]
     },
     "execution_count": 8,
     "metadata": {},
     "output_type": "execute_result"
    }
   ],
   "source": [
    "l1+l1"
   ]
  },
  {
   "cell_type": "code",
   "execution_count": 9,
   "id": "8ef908e2-661b-4889-aa79-aa948c806ae2",
   "metadata": {},
   "outputs": [
    {
     "data": {
      "text/plain": [
       "array([ 2,  4,  6,  8, 10])"
      ]
     },
     "execution_count": 9,
     "metadata": {},
     "output_type": "execute_result"
    }
   ],
   "source": [
    "arr1+arr1"
   ]
  },
  {
   "cell_type": "code",
   "execution_count": 10,
   "id": "3e9d1bcc-ea32-4939-92fb-bec7dea4e7b8",
   "metadata": {},
   "outputs": [],
   "source": [
    "l2 = [ [2,4,6,8],[1,3,5,7] ]"
   ]
  },
  {
   "cell_type": "code",
   "execution_count": 11,
   "id": "815c8146-2a5f-4214-a40c-a431578d297b",
   "metadata": {},
   "outputs": [],
   "source": [
    "arr2 = np.array(l2)"
   ]
  },
  {
   "cell_type": "code",
   "execution_count": 85,
   "id": "a1b6f096-c8ec-4903-9ce2-634e32f4930d",
   "metadata": {},
   "outputs": [
    {
     "data": {
      "text/plain": [
       "array([[4, 4, 6, 8],\n",
       "       [1, 3, 5, 7]])"
      ]
     },
     "execution_count": 85,
     "metadata": {},
     "output_type": "execute_result"
    }
   ],
   "source": [
    "arr2[0,0] = 4\n",
    "arr2"
   ]
  },
  {
   "cell_type": "code",
   "execution_count": 86,
   "id": "1ba35d4f-1dd4-4fe4-b76b-fb607084efce",
   "metadata": {},
   "outputs": [
    {
     "data": {
      "text/plain": [
       "[[2, 4, 6, 8], [1, 3, 5, 7]]"
      ]
     },
     "execution_count": 86,
     "metadata": {},
     "output_type": "execute_result"
    }
   ],
   "source": [
    "l2"
   ]
  },
  {
   "cell_type": "code",
   "execution_count": 87,
   "id": "3f0c6a55-7621-4fc6-b59f-e149214f6a85",
   "metadata": {},
   "outputs": [],
   "source": [
    "arr3 = np.array(arr2,dtype='float')"
   ]
  },
  {
   "cell_type": "code",
   "execution_count": 88,
   "id": "fc629814-2711-4160-9dad-23f8c8f23145",
   "metadata": {},
   "outputs": [
    {
     "data": {
      "text/plain": [
       "array([[4., 4., 6., 8.],\n",
       "       [1., 3., 5., 7.]])"
      ]
     },
     "execution_count": 88,
     "metadata": {},
     "output_type": "execute_result"
    }
   ],
   "source": [
    "arr3"
   ]
  },
  {
   "cell_type": "code",
   "execution_count": 89,
   "id": "c2f808c0-d27a-4bb6-af85-b6f29b62f937",
   "metadata": {},
   "outputs": [],
   "source": [
    "arr2 = np.array(arr3,dtype='int')"
   ]
  },
  {
   "cell_type": "code",
   "execution_count": 90,
   "id": "0d5ec608-5f04-44a1-a063-9ba34c8af244",
   "metadata": {},
   "outputs": [
    {
     "data": {
      "text/plain": [
       "array([[4, 4, 6, 8],\n",
       "       [1, 3, 5, 7]])"
      ]
     },
     "execution_count": 90,
     "metadata": {},
     "output_type": "execute_result"
    }
   ],
   "source": [
    "arr2"
   ]
  },
  {
   "cell_type": "code",
   "execution_count": 91,
   "id": "0c70cbb6-68eb-4c10-a7ff-7f4075d97522",
   "metadata": {},
   "outputs": [],
   "source": [
    "arr4 = np.array(arr2,dtype='bool')"
   ]
  },
  {
   "cell_type": "code",
   "execution_count": 92,
   "id": "37223a62-87c8-4fcf-8605-034d118a6597",
   "metadata": {},
   "outputs": [
    {
     "data": {
      "text/plain": [
       "array([[ True,  True,  True,  True],\n",
       "       [ True,  True,  True,  True]])"
      ]
     },
     "execution_count": 92,
     "metadata": {},
     "output_type": "execute_result"
    }
   ],
   "source": [
    "arr4"
   ]
  },
  {
   "cell_type": "code",
   "execution_count": 93,
   "id": "1a894816-107a-4715-98ce-68b16064cd2e",
   "metadata": {},
   "outputs": [],
   "source": [
    "#heterogeneous type array\n",
    "arr5 = np.array([2,5,2.5,True],dtype='object')"
   ]
  },
  {
   "cell_type": "code",
   "execution_count": 94,
   "id": "116bce94-c91a-480c-b4c7-afe236fc24c1",
   "metadata": {},
   "outputs": [
    {
     "data": {
      "text/plain": [
       "array([2, 5, 2.5, True], dtype=object)"
      ]
     },
     "execution_count": 94,
     "metadata": {},
     "output_type": "execute_result"
    }
   ],
   "source": [
    "arr5"
   ]
  },
  {
   "cell_type": "code",
   "execution_count": 95,
   "id": "6799b886-367a-4b5a-a6ff-562e3c58c4f5",
   "metadata": {},
   "outputs": [],
   "source": [
    "l3 = arr5.tolist()"
   ]
  },
  {
   "cell_type": "code",
   "execution_count": 96,
   "id": "ba34f7b2-6619-491d-8d9c-0d4960972b74",
   "metadata": {},
   "outputs": [
    {
     "data": {
      "text/plain": [
       "[2, 5, 2.5, True]"
      ]
     },
     "execution_count": 96,
     "metadata": {},
     "output_type": "execute_result"
    }
   ],
   "source": [
    "l3"
   ]
  },
  {
   "cell_type": "code",
   "execution_count": 97,
   "id": "f759eac2-e853-47e9-a1d2-89fc873077bf",
   "metadata": {},
   "outputs": [
    {
     "data": {
      "text/plain": [
       "numpy.ndarray"
      ]
     },
     "execution_count": 97,
     "metadata": {},
     "output_type": "execute_result"
    }
   ],
   "source": [
    "type(arr1)"
   ]
  },
  {
   "cell_type": "markdown",
   "id": "2fd51043-7713-4cb5-8ea6-5c7eda2df33c",
   "metadata": {},
   "source": [
    "# 2. Array Dimensions"
   ]
  },
  {
   "cell_type": "code",
   "execution_count": 98,
   "id": "85c2c89d-23ad-44f9-b97e-f5e57aea7b62",
   "metadata": {},
   "outputs": [
    {
     "data": {
      "text/plain": [
       "(2, 4)"
      ]
     },
     "execution_count": 98,
     "metadata": {},
     "output_type": "execute_result"
    }
   ],
   "source": [
    "arr2.shape"
   ]
  },
  {
   "cell_type": "code",
   "execution_count": 99,
   "id": "9a7a6355-2981-4c4c-95bc-205db4b3e8e7",
   "metadata": {},
   "outputs": [
    {
     "data": {
      "text/plain": [
       "8"
      ]
     },
     "execution_count": 99,
     "metadata": {},
     "output_type": "execute_result"
    }
   ],
   "source": [
    "arr2.size"
   ]
  },
  {
   "cell_type": "code",
   "execution_count": 100,
   "id": "01d8bf41-96f6-4798-bd88-428c6d00ded0",
   "metadata": {},
   "outputs": [
    {
     "data": {
      "text/plain": [
       "dtype('int32')"
      ]
     },
     "execution_count": 100,
     "metadata": {},
     "output_type": "execute_result"
    }
   ],
   "source": [
    "arr2.dtype"
   ]
  },
  {
   "cell_type": "code",
   "execution_count": 101,
   "id": "6ae2e9ec-d6e8-4e2d-a5c9-f6ebe5750a4f",
   "metadata": {},
   "outputs": [
    {
     "data": {
      "text/plain": [
       "2"
      ]
     },
     "execution_count": 101,
     "metadata": {},
     "output_type": "execute_result"
    }
   ],
   "source": [
    "arr2.ndim"
   ]
  },
  {
   "cell_type": "markdown",
   "id": "d6c5e60e-57e5-4338-bdc2-e500d698c9e1",
   "metadata": {},
   "source": [
    "# 3. Reversing Rows and Columns"
   ]
  },
  {
   "cell_type": "code",
   "execution_count": 102,
   "id": "79c5fe87-429c-4815-9ee7-a948910982f3",
   "metadata": {},
   "outputs": [
    {
     "data": {
      "text/plain": [
       "array([[4, 4, 6, 8],\n",
       "       [1, 3, 5, 7]])"
      ]
     },
     "execution_count": 102,
     "metadata": {},
     "output_type": "execute_result"
    }
   ],
   "source": [
    "arr2"
   ]
  },
  {
   "cell_type": "code",
   "execution_count": 103,
   "id": "36bfc1d0-ddc3-474a-a681-98916d17dff4",
   "metadata": {},
   "outputs": [
    {
     "data": {
      "text/plain": [
       "array([[1, 3, 5, 7],\n",
       "       [4, 4, 6, 8]])"
      ]
     },
     "execution_count": 103,
     "metadata": {},
     "output_type": "execute_result"
    }
   ],
   "source": [
    "arr2[::-1] #reversing rows"
   ]
  },
  {
   "cell_type": "code",
   "execution_count": 104,
   "id": "95fbaad8-8161-47f3-bf39-23d4abca23f6",
   "metadata": {},
   "outputs": [
    {
     "data": {
      "text/plain": [
       "array([[8, 6, 4, 4],\n",
       "       [7, 5, 3, 1]])"
      ]
     },
     "execution_count": 104,
     "metadata": {},
     "output_type": "execute_result"
    }
   ],
   "source": [
    "arr2[::,::-1] #reversing columns"
   ]
  },
  {
   "cell_type": "code",
   "execution_count": 105,
   "id": "d2aa4756-0484-48d4-bd59-98c0b0397585",
   "metadata": {},
   "outputs": [
    {
     "data": {
      "text/plain": [
       "array([[7, 5, 3, 1],\n",
       "       [8, 6, 4, 4]])"
      ]
     },
     "execution_count": 105,
     "metadata": {},
     "output_type": "execute_result"
    }
   ],
   "source": [
    "arr2[::-1,::-1] #reversing rows and columns both"
   ]
  },
  {
   "cell_type": "code",
   "execution_count": 106,
   "id": "c4b6d5b8-d047-4be6-8c7a-979d20bddeed",
   "metadata": {},
   "outputs": [
    {
     "data": {
      "text/plain": [
       "array([[4, 1],\n",
       "       [4, 3],\n",
       "       [6, 5],\n",
       "       [8, 7]])"
      ]
     },
     "execution_count": 106,
     "metadata": {},
     "output_type": "execute_result"
    }
   ],
   "source": [
    "arr2.T #transpose"
   ]
  },
  {
   "cell_type": "markdown",
   "id": "630b07d5-97cc-4a54-a64e-920c97baa0df",
   "metadata": {},
   "source": [
    "# 4. Specific Element Extraction"
   ]
  },
  {
   "cell_type": "code",
   "execution_count": 107,
   "id": "d9c7b516-0c78-41c8-ab86-198db96737bf",
   "metadata": {},
   "outputs": [
    {
     "data": {
      "text/plain": [
       "array([[4, 4, 6, 8],\n",
       "       [1, 3, 5, 7]])"
      ]
     },
     "execution_count": 107,
     "metadata": {},
     "output_type": "execute_result"
    }
   ],
   "source": [
    "arr2"
   ]
  },
  {
   "cell_type": "code",
   "execution_count": 108,
   "id": "5be34af8-9753-40bc-b2ac-fbb6cbf7c598",
   "metadata": {},
   "outputs": [
    {
     "data": {
      "text/plain": [
       "array([4, 4, 6, 8])"
      ]
     },
     "execution_count": 108,
     "metadata": {},
     "output_type": "execute_result"
    }
   ],
   "source": [
    "arr2[0,:] #first row"
   ]
  },
  {
   "cell_type": "code",
   "execution_count": 109,
   "id": "6bce4b26-f4b3-4595-983a-fe85b6d3b1b6",
   "metadata": {},
   "outputs": [
    {
     "data": {
      "text/plain": [
       "array([[4, 4, 6, 8]])"
      ]
     },
     "execution_count": 109,
     "metadata": {},
     "output_type": "execute_result"
    }
   ],
   "source": [
    "arr2[:1,:] #till first row"
   ]
  },
  {
   "cell_type": "code",
   "execution_count": 110,
   "id": "3cde44e7-fc4a-4170-be19-582966894a2a",
   "metadata": {},
   "outputs": [
    {
     "data": {
      "text/plain": [
       "array([[4, 4, 6, 8],\n",
       "       [1, 3, 5, 7]])"
      ]
     },
     "execution_count": 110,
     "metadata": {},
     "output_type": "execute_result"
    }
   ],
   "source": [
    "arr2[:2,:] #first 2 rows"
   ]
  },
  {
   "cell_type": "code",
   "execution_count": 111,
   "id": "9ec0134b-5d5f-4b1b-b316-56adc7012aa1",
   "metadata": {},
   "outputs": [
    {
     "data": {
      "text/plain": [
       "array([[4, 4, 6, 8]])"
      ]
     },
     "execution_count": 111,
     "metadata": {},
     "output_type": "execute_result"
    }
   ],
   "source": [
    "arr2[:-1,:] #except last row"
   ]
  },
  {
   "cell_type": "code",
   "execution_count": 112,
   "id": "98b8e836-d5b7-4c77-bf01-5776ab041b3d",
   "metadata": {},
   "outputs": [
    {
     "data": {
      "text/plain": [
       "array([1, 3, 5, 7])"
      ]
     },
     "execution_count": 112,
     "metadata": {},
     "output_type": "execute_result"
    }
   ],
   "source": [
    "arr2[-1,:] #last row"
   ]
  },
  {
   "cell_type": "code",
   "execution_count": 113,
   "id": "32cb8ab0-0ff1-4d80-8019-c905ae81912b",
   "metadata": {},
   "outputs": [
    {
     "data": {
      "text/plain": [
       "array([[4, 6],\n",
       "       [3, 5]])"
      ]
     },
     "execution_count": 113,
     "metadata": {},
     "output_type": "execute_result"
    }
   ],
   "source": [
    "arr2[:,1:3] #all rows, 0 and 1 column "
   ]
  },
  {
   "cell_type": "markdown",
   "id": "d84c620c-f65b-4063-8db4-2a0ae62f59d3",
   "metadata": {},
   "source": [
    "# 5. Basic Statistics"
   ]
  },
  {
   "cell_type": "code",
   "execution_count": 114,
   "id": "634ff300-2aee-4d6a-a9b7-5136d36112b4",
   "metadata": {},
   "outputs": [
    {
     "data": {
      "text/plain": [
       "array([[4, 4, 6, 8],\n",
       "       [1, 3, 5, 7]])"
      ]
     },
     "execution_count": 114,
     "metadata": {},
     "output_type": "execute_result"
    }
   ],
   "source": [
    "arr2"
   ]
  },
  {
   "cell_type": "code",
   "execution_count": 115,
   "id": "807dd81c-aa3b-4aae-84ee-9fb28e4e3be2",
   "metadata": {},
   "outputs": [
    {
     "data": {
      "text/plain": [
       "8"
      ]
     },
     "execution_count": 115,
     "metadata": {},
     "output_type": "execute_result"
    }
   ],
   "source": [
    "arr2.max()"
   ]
  },
  {
   "cell_type": "code",
   "execution_count": 116,
   "id": "282bc6a3-fe84-4a3c-b5cd-5a2f0e5ec27a",
   "metadata": {},
   "outputs": [
    {
     "data": {
      "text/plain": [
       "1"
      ]
     },
     "execution_count": 116,
     "metadata": {},
     "output_type": "execute_result"
    }
   ],
   "source": [
    "arr2.min()"
   ]
  },
  {
   "cell_type": "code",
   "execution_count": 117,
   "id": "9fc1c827-f757-41dd-af2c-85f83dff45e4",
   "metadata": {},
   "outputs": [
    {
     "data": {
      "text/plain": [
       "38"
      ]
     },
     "execution_count": 117,
     "metadata": {},
     "output_type": "execute_result"
    }
   ],
   "source": [
    "arr2.sum()"
   ]
  },
  {
   "cell_type": "code",
   "execution_count": 118,
   "id": "ba6c6b34-181d-432d-8cc3-c8be87c05f70",
   "metadata": {},
   "outputs": [
    {
     "data": {
      "text/plain": [
       "4.75"
      ]
     },
     "execution_count": 118,
     "metadata": {},
     "output_type": "execute_result"
    }
   ],
   "source": [
    "arr2.mean()"
   ]
  },
  {
   "cell_type": "code",
   "execution_count": 119,
   "id": "c67a9251-912d-4e0e-81bc-36b2875a4189",
   "metadata": {},
   "outputs": [
    {
     "data": {
      "text/plain": [
       "4.5"
      ]
     },
     "execution_count": 119,
     "metadata": {},
     "output_type": "execute_result"
    }
   ],
   "source": [
    "np.median(arr2)"
   ]
  },
  {
   "cell_type": "code",
   "execution_count": 120,
   "id": "8fe95c15-5d3a-4cf7-a627-a0a166f4ebef",
   "metadata": {},
   "outputs": [
    {
     "data": {
      "text/plain": [
       "4.75"
      ]
     },
     "execution_count": 120,
     "metadata": {},
     "output_type": "execute_result"
    }
   ],
   "source": [
    "np.average(arr2)"
   ]
  },
  {
   "cell_type": "code",
   "execution_count": 121,
   "id": "622eddfb-a6bb-4213-aacb-46c7e62e791f",
   "metadata": {},
   "outputs": [
    {
     "data": {
      "text/plain": [
       "4.4375"
      ]
     },
     "execution_count": 121,
     "metadata": {},
     "output_type": "execute_result"
    }
   ],
   "source": [
    "np.var(arr2)"
   ]
  },
  {
   "cell_type": "markdown",
   "id": "f8ad670b-cb8c-428e-87d4-c11846219b32",
   "metadata": {},
   "source": [
    "# 6. Reshaping and Flattening"
   ]
  },
  {
   "cell_type": "code",
   "execution_count": 122,
   "id": "beb69cb7-b17e-45c2-8df5-36963582feba",
   "metadata": {},
   "outputs": [
    {
     "data": {
      "text/plain": [
       "array([[4, 4, 6, 8],\n",
       "       [1, 3, 5, 7]])"
      ]
     },
     "execution_count": 122,
     "metadata": {},
     "output_type": "execute_result"
    }
   ],
   "source": [
    "arr2"
   ]
  },
  {
   "cell_type": "code",
   "execution_count": 123,
   "id": "a8b42ac9-e6a3-4a97-acc1-cf0aa9c82ec6",
   "metadata": {},
   "outputs": [
    {
     "data": {
      "text/plain": [
       "(2, 4)"
      ]
     },
     "execution_count": 123,
     "metadata": {},
     "output_type": "execute_result"
    }
   ],
   "source": [
    "arr2.shape"
   ]
  },
  {
   "cell_type": "code",
   "execution_count": 124,
   "id": "15e55eaa-f17e-4d80-995c-7ea4ee3c96cd",
   "metadata": {},
   "outputs": [
    {
     "data": {
      "text/plain": [
       "array([[4, 4],\n",
       "       [6, 8],\n",
       "       [1, 3],\n",
       "       [5, 7]])"
      ]
     },
     "execution_count": 124,
     "metadata": {},
     "output_type": "execute_result"
    }
   ],
   "source": [
    "arr2.reshape(4,2)"
   ]
  },
  {
   "cell_type": "code",
   "execution_count": 125,
   "id": "2fcfc7f4-f685-49f3-83d8-6337b4a3fc95",
   "metadata": {},
   "outputs": [
    {
     "data": {
      "text/plain": [
       "array([[4],\n",
       "       [4],\n",
       "       [6],\n",
       "       [8],\n",
       "       [1],\n",
       "       [3],\n",
       "       [5],\n",
       "       [7]])"
      ]
     },
     "execution_count": 125,
     "metadata": {},
     "output_type": "execute_result"
    }
   ],
   "source": [
    "arr2.reshape(8,1)"
   ]
  },
  {
   "cell_type": "code",
   "execution_count": 126,
   "id": "0a5b9eca-6a80-4478-9e91-ce845f29d72e",
   "metadata": {},
   "outputs": [],
   "source": [
    "f1 = arr2.flatten()"
   ]
  },
  {
   "cell_type": "code",
   "execution_count": 127,
   "id": "b48fb286-e318-4aed-9ba0-8a55516cfe61",
   "metadata": {},
   "outputs": [
    {
     "data": {
      "text/plain": [
       "array([4, 4, 6, 8, 1, 3, 5, 7])"
      ]
     },
     "execution_count": 127,
     "metadata": {},
     "output_type": "execute_result"
    }
   ],
   "source": [
    "f1 #1d array of arr2"
   ]
  },
  {
   "cell_type": "code",
   "execution_count": 128,
   "id": "02eea4fb-99af-41b7-a3bd-e810391f2322",
   "metadata": {},
   "outputs": [
    {
     "data": {
      "text/plain": [
       "1"
      ]
     },
     "execution_count": 128,
     "metadata": {},
     "output_type": "execute_result"
    }
   ],
   "source": [
    "f1.ndim"
   ]
  },
  {
   "cell_type": "markdown",
   "id": "7d9aa53a-da29-4f21-aa42-7e0dc8a512a5",
   "metadata": {},
   "source": [
    "# 7. Creating Random numbers and sequences"
   ]
  },
  {
   "cell_type": "code",
   "execution_count": 129,
   "id": "9b6abfcb-86d2-476b-a5e2-6a6ef03c1dc6",
   "metadata": {},
   "outputs": [
    {
     "data": {
      "text/plain": [
       "array([0, 1, 2, 3, 4, 5, 6, 7, 8, 9])"
      ]
     },
     "execution_count": 129,
     "metadata": {},
     "output_type": "execute_result"
    }
   ],
   "source": [
    "np.arange(10)"
   ]
  },
  {
   "cell_type": "code",
   "execution_count": 130,
   "id": "0c473ff4-59f4-4b3c-aa26-2df8cf74c597",
   "metadata": {},
   "outputs": [
    {
     "data": {
      "text/plain": [
       "array([1, 2, 3, 4, 5, 6, 7, 8, 9])"
      ]
     },
     "execution_count": 130,
     "metadata": {},
     "output_type": "execute_result"
    }
   ],
   "source": [
    "np.arange(1,10)"
   ]
  },
  {
   "cell_type": "code",
   "execution_count": 131,
   "id": "436aeed3-dfd7-4e5b-b9be-d8fbfe4b4b99",
   "metadata": {},
   "outputs": [
    {
     "data": {
      "text/plain": [
       "array([1, 3, 5, 7, 9])"
      ]
     },
     "execution_count": 131,
     "metadata": {},
     "output_type": "execute_result"
    }
   ],
   "source": [
    "np.arange(1,10,2)"
   ]
  },
  {
   "cell_type": "code",
   "execution_count": 132,
   "id": "b166f209-5c75-4daa-9d6e-176462241bce",
   "metadata": {},
   "outputs": [
    {
     "data": {
      "text/plain": [
       "array([10,  9,  8,  7,  6,  5,  4,  3,  2,  1])"
      ]
     },
     "execution_count": 132,
     "metadata": {},
     "output_type": "execute_result"
    }
   ],
   "source": [
    "np.arange(10,0,-1)"
   ]
  },
  {
   "cell_type": "code",
   "execution_count": 133,
   "id": "dbfb15fe-daf2-4330-a4c9-6873cfe0d5e9",
   "metadata": {},
   "outputs": [
    {
     "data": {
      "text/plain": [
       "array([ 1., 50., 99.])"
      ]
     },
     "execution_count": 133,
     "metadata": {},
     "output_type": "execute_result"
    }
   ],
   "source": [
    "np.linspace(1,99,3) #both 1 and 99 and inclusive here, automatic step size"
   ]
  },
  {
   "cell_type": "code",
   "execution_count": 134,
   "id": "fc47cbc7-9c3a-4dd8-9d28-a15a2c359733",
   "metadata": {},
   "outputs": [
    {
     "data": {
      "text/plain": [
       "array([0.        , 0.11111111, 0.22222222, 0.33333333, 0.44444444,\n",
       "       0.55555556, 0.66666667, 0.77777778, 0.88888889, 1.        ])"
      ]
     },
     "execution_count": 134,
     "metadata": {},
     "output_type": "execute_result"
    }
   ],
   "source": [
    "np.linspace(0,1,10)"
   ]
  },
  {
   "cell_type": "code",
   "execution_count": 135,
   "id": "a81ddffc-af9d-4eda-ab6b-274030967c0c",
   "metadata": {},
   "outputs": [
    {
     "data": {
      "text/plain": [
       "array([[0., 0., 0., 0.],\n",
       "       [0., 0., 0., 0.]])"
      ]
     },
     "execution_count": 135,
     "metadata": {},
     "output_type": "execute_result"
    }
   ],
   "source": [
    "np.zeros([2,4])"
   ]
  },
  {
   "cell_type": "code",
   "execution_count": 136,
   "id": "bf040894-8f1c-4816-ab34-707e89da5627",
   "metadata": {},
   "outputs": [
    {
     "data": {
      "text/plain": [
       "array([[1., 1., 1., 1.],\n",
       "       [1., 1., 1., 1.]])"
      ]
     },
     "execution_count": 136,
     "metadata": {},
     "output_type": "execute_result"
    }
   ],
   "source": [
    "np.ones([2,4])"
   ]
  },
  {
   "cell_type": "code",
   "execution_count": 137,
   "id": "cbb321ca-0064-4f0f-856c-75a574038af5",
   "metadata": {},
   "outputs": [
    {
     "data": {
      "text/plain": [
       "array([[1., 0., 0.],\n",
       "       [0., 1., 0.],\n",
       "       [0., 0., 1.]])"
      ]
     },
     "execution_count": 137,
     "metadata": {},
     "output_type": "execute_result"
    }
   ],
   "source": [
    "np.eye(3) #identity matrix"
   ]
  },
  {
   "cell_type": "code",
   "execution_count": 138,
   "id": "813e876b-1446-4e81-90e5-14e2c9fb5ff2",
   "metadata": {},
   "outputs": [
    {
     "data": {
      "text/plain": [
       "array([[[0., 0.],\n",
       "        [0., 0.]],\n",
       "\n",
       "       [[0., 0.],\n",
       "        [0., 0.]]])"
      ]
     },
     "execution_count": 138,
     "metadata": {},
     "output_type": "execute_result"
    }
   ],
   "source": [
    "np.zeros([2,2,2,])"
   ]
  },
  {
   "cell_type": "markdown",
   "id": "91c2d6d7-fb3b-4cd4-b484-dcb54293061b",
   "metadata": {},
   "source": [
    "# 8. Unique elements and count"
   ]
  },
  {
   "cell_type": "code",
   "execution_count": 139,
   "id": "87fdcbda-7ef9-4ab3-bf5b-c6359c8f1cb7",
   "metadata": {},
   "outputs": [
    {
     "data": {
      "text/plain": [
       "array([[4, 4, 6, 8],\n",
       "       [1, 3, 5, 7]])"
      ]
     },
     "execution_count": 139,
     "metadata": {},
     "output_type": "execute_result"
    }
   ],
   "source": [
    "arr2"
   ]
  },
  {
   "cell_type": "code",
   "execution_count": 140,
   "id": "50d38b04-bc18-478c-adc7-3e3b9dbc236d",
   "metadata": {},
   "outputs": [
    {
     "data": {
      "text/plain": [
       "array([1, 3, 4, 5, 6, 7, 8])"
      ]
     },
     "execution_count": 140,
     "metadata": {},
     "output_type": "execute_result"
    }
   ],
   "source": [
    "np.unique(arr2)"
   ]
  },
  {
   "cell_type": "code",
   "execution_count": 141,
   "id": "a1956e27-3219-418f-b2bf-3aea7224fae6",
   "metadata": {},
   "outputs": [
    {
     "data": {
      "text/plain": [
       "(array([1, 3, 4, 5, 6, 7, 8]), array([1, 1, 2, 1, 1, 1, 1], dtype=int64))"
      ]
     },
     "execution_count": 141,
     "metadata": {},
     "output_type": "execute_result"
    }
   ],
   "source": [
    "np.unique(arr2,return_counts=True)"
   ]
  },
  {
   "cell_type": "markdown",
   "id": "8faea588-9553-4f57-b38e-e7b0885165da",
   "metadata": {},
   "source": [
    "# 9. Sorting"
   ]
  },
  {
   "cell_type": "code",
   "execution_count": 143,
   "id": "555f7e0f-bf3a-48a9-a248-7d0672a38a38",
   "metadata": {},
   "outputs": [
    {
     "data": {
      "text/plain": [
       "array([[4, 4, 6, 8],\n",
       "       [1, 3, 5, 7]])"
      ]
     },
     "execution_count": 143,
     "metadata": {},
     "output_type": "execute_result"
    }
   ],
   "source": [
    "np.sort(arr2) #each row sorted"
   ]
  },
  {
   "cell_type": "markdown",
   "id": "6786cf62-0d7f-4775-96dd-7d55c4f500b7",
   "metadata": {},
   "source": [
    "# 10. Searching"
   ]
  },
  {
   "cell_type": "code",
   "execution_count": 144,
   "id": "3ccd8b03-ec83-4e2d-8138-3223533e799a",
   "metadata": {},
   "outputs": [
    {
     "data": {
      "text/plain": [
       "array([[False, False, False, False],\n",
       "       [False,  True, False, False]])"
      ]
     },
     "execution_count": 144,
     "metadata": {},
     "output_type": "execute_result"
    }
   ],
   "source": [
    "arr2==3"
   ]
  },
  {
   "cell_type": "code",
   "execution_count": 149,
   "id": "55753dd5-3194-48d9-a6e1-8dd92aee3b85",
   "metadata": {},
   "outputs": [
    {
     "data": {
      "text/plain": [
       "(array([1], dtype=int64), array([1], dtype=int64))"
      ]
     },
     "execution_count": 149,
     "metadata": {},
     "output_type": "execute_result"
    }
   ],
   "source": [
    "np.where(arr2==3) #indexe tuple"
   ]
  },
  {
   "cell_type": "code",
   "execution_count": 152,
   "id": "0fd951ee-65fa-493d-9763-f13bfd32bfbd",
   "metadata": {},
   "outputs": [
    {
     "data": {
      "text/plain": [
       "(array([0, 0], dtype=int64), array([0, 1], dtype=int64))"
      ]
     },
     "execution_count": 152,
     "metadata": {},
     "output_type": "execute_result"
    }
   ],
   "source": [
    "np.where(arr2==4)"
   ]
  },
  {
   "cell_type": "code",
   "execution_count": 159,
   "id": "9fdb85ce-52d8-439f-bdde-566de0bf4072",
   "metadata": {},
   "outputs": [
    {
     "data": {
      "text/plain": [
       "(array([0, 0, 0, 0], dtype=int64), array([0, 1, 2, 3], dtype=int64))"
      ]
     },
     "execution_count": 159,
     "metadata": {},
     "output_type": "execute_result"
    }
   ],
   "source": [
    "np.where(arr2%2==0)"
   ]
  },
  {
   "cell_type": "markdown",
   "id": "24cf5e4b-eb54-47cf-b037-0b2fd4068fe9",
   "metadata": {},
   "source": [
    "# 11. Filtering"
   ]
  },
  {
   "cell_type": "code",
   "execution_count": 160,
   "id": "35249a09-5403-45e9-908a-dcd42fdf8de9",
   "metadata": {},
   "outputs": [
    {
     "data": {
      "text/plain": [
       "array([4, 4])"
      ]
     },
     "execution_count": 160,
     "metadata": {},
     "output_type": "execute_result"
    }
   ],
   "source": [
    "arr2[arr2==4]"
   ]
  },
  {
   "cell_type": "code",
   "execution_count": 161,
   "id": "a7001ed7-f959-4329-b352-aee262f657bd",
   "metadata": {},
   "outputs": [
    {
     "data": {
      "text/plain": [
       "array([4, 4, 6, 8])"
      ]
     },
     "execution_count": 161,
     "metadata": {},
     "output_type": "execute_result"
    }
   ],
   "source": [
    "arr2[arr2%2==0]"
   ]
  }
 ],
 "metadata": {
  "kernelspec": {
   "display_name": "Python 3 (ipykernel)",
   "language": "python",
   "name": "python3"
  },
  "language_info": {
   "codemirror_mode": {
    "name": "ipython",
    "version": 3
   },
   "file_extension": ".py",
   "mimetype": "text/x-python",
   "name": "python",
   "nbconvert_exporter": "python",
   "pygments_lexer": "ipython3",
   "version": "3.12.4"
  }
 },
 "nbformat": 4,
 "nbformat_minor": 5
}
